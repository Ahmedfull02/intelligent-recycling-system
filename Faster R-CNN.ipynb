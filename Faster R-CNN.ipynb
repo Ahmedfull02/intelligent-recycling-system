{
 "cells": [
  {
   "cell_type": "markdown",
   "metadata": {},
   "source": [
    "Import Required Modules"
   ]
  },
  {
   "cell_type": "code",
   "execution_count": null,
   "metadata": {},
   "outputs": [],
   "source": [
    "import torch\n",
    "from torch.utils.data import DataLoader\n",
    "import torchvision\n",
    "from torchvision.models.detection import fasterrcnn_resnet50_fpn\n",
    "from torchvision.datasets import ImageFolder\n",
    "from torchvision import transforms\n",
    "import torchvision.transforms as T\n",
    "from torchvision.models.detection.faster_rcnn import FastRCNNPredictor"
   ]
  },
  {
   "cell_type": "code",
   "execution_count": null,
   "metadata": {},
   "outputs": [],
   "source": [
    "# Dataset classes\n",
    "CLASSES = ['cardboard', 'glass', 'metal']\n",
    "# Load the pre-trained Faster R-CNN model with a ResNet-50 backbone\n",
    "model = fasterrcnn_resnet50_fpn(pretrained=True)\n",
    "\n",
    "# Number of classes (your dataset classes + 1 for background)\n",
    "num_classes = len(CLASSES)  # For example, 2 classes + background\n",
    "\n",
    "# Get the number of input features for the classifier\n",
    "in_features = model.roi_heads.box_predictor.cls_score.in_features\n",
    "\n",
    "# Replace the head of the model with a new one (for the number of classes in your dataset)\n",
    "model.roi_heads.box_predictor = FastRCNNPredictor(in_features, num_classes)"
   ]
  },
  {
   "cell_type": "markdown",
   "metadata": {},
   "source": [
    "Create custom dataset"
   ]
  },
  {
   "cell_type": "markdown",
   "metadata": {},
   "source": [
    "bounding box thing"
   ]
  },
  {
   "cell_type": "code",
   "execution_count": null,
   "metadata": {},
   "outputs": [],
   "source": [
    "def convert_yolo_to_pascal(box, img_width, img_height):\n",
    "    \"\"\"Convert YOLO (x_center, y_center, w, h) to Pascal VOC (x_min, y_min, x_max, y_max)\"\"\"\n",
    "    x_center, y_center, width, height = box\n",
    "    x_min = max(0, x_center - width / 2) * img_width\n",
    "    y_min = max(0, y_center - height / 2) * img_height\n",
    "    x_max = min(1, x_center + width / 2) * img_width\n",
    "    y_max = min(1, y_center + height / 2) * img_height\n",
    "    return [x_min, y_min, x_max, y_max]\n"
   ]
  },
  {
   "cell_type": "code",
   "execution_count": null,
   "metadata": {},
   "outputs": [],
   "source": [
    "import os\n",
    "from torch.utils.data import Dataset\n",
    "from PIL import Image\n",
    "\n",
    "# Define transformations (e.g., resizing, normalization)\n",
    "transform = T.Compose([\n",
    "    T.ToTensor(),\n",
    "])\n",
    "# Custom Dataset class or using an existing one\n",
    "class ModelDataset(Dataset):\n",
    "    def __init__(self, image_dir, label_dir, img_width=1024, img_height=1024, transform=None):\n",
    "        self.image_dir = image_dir\n",
    "        self.label_dir = label_dir\n",
    "        self.img_width = img_width \n",
    "        self.img_height = img_height\n",
    "        self.transform = transform\n",
    "        self.image_filenames = sorted(os.listdir(image_dir))  # Sort for consistent order\n",
    "\n",
    "    def __len__(self):\n",
    "        return len(self.image_filenames)\n",
    "\n",
    "    def __getitem__(self, idx):\n",
    "        img_filename = self.image_filenames[idx]\n",
    "        img_path = os.path.join(self.image_dir, img_filename)\n",
    "\n",
    "        # Check if image exists\n",
    "        if not os.path.exists(img_path):\n",
    "            raise FileNotFoundError(f\"Image file {img_path} not found.\")\n",
    "\n",
    "        # Load image\n",
    "        try:\n",
    "            image = Image.open(img_path).convert(\"RGB\")\n",
    "        except Exception as e:\n",
    "            raise RuntimeError(f\"Error loading image {img_path}: {e}\")\n",
    "\n",
    "        # Load corresponding label file\n",
    "        label_filename = os.path.splitext(img_filename)[0] + \".txt\"\n",
    "        label_path = os.path.join(self.label_dir, label_filename)\n",
    "\n",
    "        # Read bounding boxes\n",
    "        boxes, labels = [], []\n",
    "        if os.path.exists(label_path):\n",
    "            with open(label_path, \"r\") as f:\n",
    "                for line in f.readlines():\n",
    "                    parts = line.strip().split()\n",
    "                    if len(parts) != 5:\n",
    "                        continue  # Skip incorrect formats\n",
    "                    class_id = int(parts[0])\n",
    "                    x_center, y_center, width, height = map(float, parts[1:])\n",
    "                    # Convert YOLO to Pascal format (x_min, y_min, x_max, y_max)\n",
    "                    box = convert_yolo_to_pascal([x_center, y_center, width, height], self.img_width, self.img_height)\n",
    "                    boxes.append(box)\n",
    "                    labels.append(class_id)\n",
    "        else:\n",
    "            print(f\"Warning: Label file {label_path} not found. Assigning empty labels.\")\n",
    "\n",
    "        # Convert to tensors\n",
    "        boxes = torch.tensor(boxes, dtype=torch.float32) if boxes else torch.zeros((0, 4), dtype=torch.float32)\n",
    "        labels = torch.tensor(labels, dtype=torch.int64) if labels else torch.zeros((0,), dtype=torch.int64)\n",
    "\n",
    "        target = {\"boxes\": boxes, \"labels\": labels}\n",
    "\n",
    "        # Apply transforms (ensure img exists)\n",
    "        if self.transform:\n",
    "            image = self.transform(image)\n",
    "\n",
    "        return image, target\n",
    "\n",
    "    "
   ]
  },
  {
   "cell_type": "code",
   "execution_count": null,
   "metadata": {},
   "outputs": [],
   "source": [
    "from torch.utils.data import dataloader\n",
    "# Load train and val datasets\n",
    "train_dataset = ModelDataset(image_dir=\"./datasets/dataset/train/images\", label_dir=\"./datasets/dataset/train/labels\", transform=transform)\n",
    "val_dataset = ModelDataset(image_dir=\"./datasets/dataset/val/images\", label_dir=\"./datasets/dataset/val/labels\", transform=transform)\n",
    "\n",
    "# DataLoader (Important: Use collate_fn to handle varying number of objects per image)\n",
    "def collate_fn(batch):\n",
    "    return tuple(zip(*batch))\n",
    "\n",
    "train_loader = DataLoader(train_dataset, batch_size=4, shuffle=True, collate_fn=collate_fn)\n",
    "val_loader = DataLoader(val_dataset, batch_size=4, shuffle=False, collate_fn=collate_fn)\n",
    "\n",
    "# Test data loading\n",
    "for images, targets in train_loader:\n",
    "    print(images[0].shape, targets[0])  # Image shape and first annotation\n",
    "    break"
   ]
  },
  {
   "cell_type": "code",
   "execution_count": null,
   "metadata": {},
   "outputs": [],
   "source": []
  },
  {
   "cell_type": "markdown",
   "metadata": {},
   "source": [
    "Setup dataloader"
   ]
  },
  {
   "cell_type": "markdown",
   "metadata": {},
   "source": [
    "Training"
   ]
  },
  {
   "cell_type": "code",
   "execution_count": null,
   "metadata": {},
   "outputs": [],
   "source": [
    "# Cuda activation if existed\n",
    "device = torch.device('cuda' if torch.cuda.is_available() else 'cpu')\n",
    "model.to(device)\n",
    "\n",
    "# Set up the optimizer\n",
    "params = [p for p in model.parameters() if p.requires_grad]\n",
    "optimizer = torch.optim.SGD(params, lr=0.005, momentum=0.9, \n",
    "                                                   weight_decay=0.0005)\n",
    "# Learning rate scheduler\n",
    "lr_scheduler = torch.optim.lr_scheduler.StepLR(optimizer, step_size=3, \n",
    "                                                               gamma=0.1)\n",
    "# Train the model\n",
    "print(\"Start training\")\n",
    "num_epochs = 5\n",
    "for epoch in range(num_epochs):\n",
    "    model.train()\n",
    "    train_loss = 0.0\n",
    "\n",
    "   # Training loop\n",
    "    for images, targets in train_loader:\n",
    "        images = list(image.to(device) for image in images)\n",
    "        targets = [{k: v.to(device) for k, v in t.items()} for t in targets]\n",
    "\n",
    "        # Zero the gradients\n",
    "        optimizer.zero_grad()\n",
    "\n",
    "        # Forward pass\n",
    "        loss_dict = model(images, targets)\n",
    "        losses = sum(loss for loss in loss_dict.values())\n",
    "\n",
    "        # Backward pass\n",
    "        losses.backward()\n",
    "        optimizer.step()\n",
    "        train_loss += losses.item()\n",
    "\n",
    "    # Update the learning rate\n",
    "    lr_scheduler.step()\n",
    "    print(f'Epoch: {epoch + 1}, Loss: {train_loss / len(train_loader)}')\n",
    "print(\"Training complete!\")"
   ]
  },
  {
   "cell_type": "markdown",
   "metadata": {},
   "source": [
    "Evaluate"
   ]
  },
  {
   "cell_type": "code",
   "execution_count": null,
   "metadata": {},
   "outputs": [],
   "source": [
    "# Cuda activation if existed\n",
    "device = torch.device('cuda' if torch.cuda.is_available() else 'cpu')\n",
    "model.to(device)\n",
    "# Set the model to evaluation mode\n",
    "model.eval()\n",
    "# Test on a new image\n",
    "with torch.no_grad():\n",
    "    for images, targets in val_loader:\n",
    "        images = list(img.to(device) for img in images)\n",
    "        predictions = model(images)\n",
    "        # Example: print the bounding boxes and labels for the first image\n",
    "        print(predictions[0]['boxes'])\n",
    "        print(predictions[0]['labels'])"
   ]
  },
  {
   "cell_type": "markdown",
   "metadata": {},
   "source": [
    "test"
   ]
  },
  {
   "cell_type": "code",
   "execution_count": null,
   "metadata": {},
   "outputs": [],
   "source": [
    "import cv2\n",
    "from PIL import Image, ImageDraw, ImageFont\n",
    "# Load image\n",
    "img = Image.open(\"./datasets/dataset/val/images/3a5036dd-cardboard9.jpg\")\n",
    "# Apply the same transformation as for training\n",
    "img = transform(img)\n",
    "# img = img.unsqueeze(0).to(device)\n",
    "# Model prediction\n",
    "model.eval()\n",
    "with torch.no_grad():\n",
    "    prediction = model([img])\n",
    "# Print the predicted bounding boxes and labels\n",
    "print(prediction[0]['boxes'])\n",
    "print(prediction[0]['labels'])\n"
   ]
  },
  {
   "cell_type": "markdown",
   "metadata": {},
   "source": [
    "Save model"
   ]
  },
  {
   "cell_type": "code",
   "execution_count": null,
   "metadata": {},
   "outputs": [],
   "source": [
    "\n",
    "import torch\n",
    "\n",
    "# Save the model\n",
    "torch.save(model.state_dict(), \"FR-CNNmodel.pth\")"
   ]
  },
  {
   "cell_type": "markdown",
   "metadata": {},
   "source": [
    "Load Model"
   ]
  },
  {
   "cell_type": "markdown",
   "metadata": {},
   "source": [
    "Load the saved weights\n"
   ]
  },
  {
   "cell_type": "code",
   "execution_count": null,
   "metadata": {},
   "outputs": [],
   "source": [
    "model.load_state_dict(torch.load(\"FR-CNNmodel.pth\",map_location=torch.device('cpu')))\n",
    "model.eval()  # Set to evaluation mode"
   ]
  },
  {
   "cell_type": "code",
   "execution_count": null,
   "metadata": {},
   "outputs": [],
   "source": [
    "# Initialize the webcam\n",
    "cap = cv2.VideoCapture(0)  # 0 for default webcam\n",
    "\n",
    "# Define transformation to convert frame to a tensor\n",
    "transform = T.Compose([T.ToTensor()])\n",
    "\n",
    "while cap.isOpened():\n",
    "    # Read a frame from the webcam\n",
    "    success, frame = cap.read()\n",
    "    if not success:\n",
    "        print(\"Error reading frame from webcam.\")\n",
    "        break\n",
    "\n",
    "    # Convert frame (H, W, C) -> (C, H, W) and normalize\n",
    "    frame_rgb = cv2.cvtColor(frame, cv2.COLOR_BGR2RGB)  # Convert BGR to RGB\n",
    "    frame_tensor = transform(frame_rgb).unsqueeze(0)  # Convert to tensor and add batch dim\n",
    "\n",
    "    # Run inference\n",
    "    with torch.no_grad():\n",
    "        outputs = model(frame_tensor)\n",
    "\n",
    "    # Process the predictions\n",
    "    scores = outputs[0]['scores'].numpy()\n",
    "    labels = outputs[0]['labels'].numpy()\n",
    "    boxes = outputs[0]['boxes'].numpy()\n",
    "\n",
    "    # Draw bounding boxes if confidence > 0.5\n",
    "    for i in range(len(scores)):\n",
    "        if scores[i] > 0.5:\n",
    "            x1, y1, x2, y2 = map(int, boxes[i])  # Convert to integers\n",
    "            label = CLASSES[labels[i]]\n",
    "            confidence = scores[i]\n",
    "\n",
    "            # Draw bounding box\n",
    "            cv2.rectangle(frame, (x1, y1), (x2, y2), (0, 255, 0), 2)\n",
    "            text = f\"{label}: {confidence:.2f}\"\n",
    "            cv2.putText(frame, text, (x1, y1 - 10), cv2.FONT_HERSHEY_SIMPLEX, 0.5, (0, 255, 0), 2)\n",
    "\n",
    "    # Display the annotated frame\n",
    "    cv2.imshow(\"Faster R-CNN Object Detection\", frame)\n",
    "\n",
    "    # Break the loop if 'q' is pressed\n",
    "    if cv2.waitKey(1) & 0xFF == ord(\"q\"):\n",
    "        break\n",
    "\n",
    "# Release the webcam and close all windows\n",
    "cap.release()\n",
    "cv2.destroyAllWindows()"
   ]
  }
 ],
 "metadata": {
  "kernelspec": {
   "display_name": "SRS_env",
   "language": "python",
   "name": "python3"
  },
  "language_info": {
   "codemirror_mode": {
    "name": "ipython",
    "version": 3
   },
   "file_extension": ".py",
   "mimetype": "text/x-python",
   "name": "python",
   "nbconvert_exporter": "python",
   "pygments_lexer": "ipython3",
   "version": "3.12.9"
  }
 },
 "nbformat": 4,
 "nbformat_minor": 2
}
