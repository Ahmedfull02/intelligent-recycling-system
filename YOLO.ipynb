{
  "cells": [
    {
      "cell_type": "markdown",
      "metadata": {
        "id": "l7_Ylzvsoo64"
      },
      "source": [
        "**Ultralytics download**\n",
        "to use TOLOv11 Model"
      ]
    },
    {
      "cell_type": "code",
      "execution_count": null,
      "metadata": {
        "id": "qvTELg3goMGE"
      },
      "outputs": [],
      "source": [
        "%pip install ultralytics\n",
        "%pip install opencv-python\n",
        "%pip install scikit-learn"
      ]
    },
    {
      "cell_type": "code",
      "execution_count": null,
      "metadata": {
        "id": "TCiaf7jZz8il"
      },
      "outputs": [],
      "source": [
        "%pip install --upgrade sympy"
      ]
    },
    {
      "cell_type": "code",
      "execution_count": 1,
      "metadata": {
        "colab": {
          "base_uri": "https://localhost:8080/"
        },
        "id": "EDdLc_8xrHHF",
        "outputId": "74fe734c-bc85-41ae-e022-0a862e503886"
      },
      "outputs": [
        {
          "name": "stdout",
          "output_type": "stream",
          "text": [
            "YOLOv8n summary: 225 layers, 3,157,200 parameters, 0 gradients, 8.9 GFLOPs\n"
          ]
        },
        {
          "data": {
            "text/plain": [
              "(225, 3157200, 0, 8.8575488)"
            ]
          },
          "execution_count": 1,
          "metadata": {},
          "output_type": "execute_result"
        }
      ],
      "source": [
        "from ultralytics import YOLO\n",
        "\n",
        "# Load a COCO-pretrained YOLOv8n model\n",
        "model = YOLO(\"yolov8n.pt\")\n",
        "\n",
        "# Display model information (optional)\n",
        "model.info()\n"
      ]
    },
    {
      "cell_type": "code",
      "execution_count": null,
      "metadata": {
        "id": "AhZ3yebXMVeG"
      },
      "outputs": [],
      "source": [
        "# Train the model\n",
        "results = model.train(data=\"coco8.yaml\", epochs=100, imgsz=640)"
      ]
    },
    {
      "cell_type": "code",
      "execution_count": null,
      "metadata": {
        "id": "M-U264qyMXDg"
      },
      "outputs": [],
      "source": [
        "from ultralytics import YOLO\n",
        "\n",
        "# Load a COCO-pretrained YOLOv8n model\n",
        "model = YOLO(\"yolov8n.pt\")\n",
        "\n",
        "# Display model information (optional)\n",
        "model.info()\n",
        "\n",
        "# Train the model with a validation set split\n",
        "results = model.train(data=\"coco8.yaml\", epochs=100, imgsz=640, val=0.2) # val=0.2 splits 20% of the data for validation\n"
      ]
    },
    {
      "cell_type": "code",
      "execution_count": 3,
      "metadata": {
        "id": "872HJTgK0HtD"
      },
      "outputs": [],
      "source": [
        "import cv2\n",
        "# Initialize the webcam\n",
        "cap = cv2.VideoCapture(0)  # 0 for default webcam\n",
        "\n",
        "while cap.isOpened():\n",
        "    # Read a frame from the webcam\n",
        "    success, frame = cap.read()\n",
        "\n",
        "    if success:\n",
        "        # Run inference on the frame\n",
        "        results = model(frame)\n",
        "\n",
        "        # Get the annotated frame with bounding boxes\n",
        "        annotated_frame = results[0].plot()\n",
        "\n",
        "        # Display the annotated frame\n",
        "        cv2.imshow(\"YOLOv8 Object Detection\", annotated_frame)\n",
        "\n",
        "        # Break the loop if 'q' is pressed\n",
        "        if cv2.waitKey(1) & 0xFF == ord(\"q\"):\n",
        "            break\n",
        "    else:\n",
        "        print(\"Error reading frame from webcam.\")\n",
        "        break\n",
        "\n",
        "# Release the webcam and close all windows\n",
        "cap.release()\n",
        "cv2.destroyAllWindows()\n",
        "\n"
      ]
    }
  ],
  "metadata": {
    "accelerator": "GPU",
    "colab": {
      "gpuType": "T4",
      "provenance": []
    },
    "kernelspec": {
      "display_name": "SRS_env",
      "language": "python",
      "name": "python3"
    },
    "language_info": {
      "name": "python",
      "version": "3.12.9"
    }
  },
  "nbformat": 4,
  "nbformat_minor": 0
}
